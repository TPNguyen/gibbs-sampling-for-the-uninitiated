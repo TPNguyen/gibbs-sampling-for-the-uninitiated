{
 "cells": [
  {
   "cell_type": "markdown",
   "metadata": {},
   "source": [
    "# Gibbs Sampling for the Uninitiated with Python \n",
    "\n",
    "The tutorial paper \n",
    "[Gibbs Sampling for the Uninitiated](https://www.umiacs.umd.edu/~resnik/pubs/LAMP-TR-153.pdf)\n",
    "by Resnik and Hardisty is a masterpiece of exposition.  Their main example provides an amazingly \n",
    "clear description of how to build a Gibbs sampler for the very simple Naı̈ve Bayes probabilistic model. In this post I will implement that sampler in Python and exercise the implementation with a simulated text classification problem. To make things as easy to follow as possible, I'll ignore optimizing the code.  In a follow-up post I'll discuss optimization.\n",
    "\n",
    "The diagram below illustrates the problem to be solved.  There is a collection documents, some with labels and \n",
    "some without.  The goal is to predict the labels for the unlabelled documents based on those we do observe.\n",
    "\n",
    "![Graphical Model](https://ai2-s2-public.s3.amazonaws.com/figures/2016-11-01/fc024fbdc59c3b5e708268b29e00cebaf9593875/8-Figure4-1.png)"
   ]
  },
  {
   "cell_type": "markdown",
   "metadata": {},
   "source": [
    "## State space and initialization"
   ]
  },
  {
   "cell_type": "markdown",
   "metadata": {},
   "source": [
    "Since the latent variable $\\pi$ can be integrated out (see $\\S$2.4.3 of the paper), the state of the model at an\n",
    "interation step is determined by the current values for the predicted labels $\\bf L$, \n",
    "the topics $\\bf \\theta_0$ and $\\bf \\theta_1$, for each word $i$, the number of times, $N_{x,i}$, \n",
    "it occurs in the set of all documents labeled $x$, the number of documents labelled $0$, $C_0$, and \n",
    "the number of documents labelled $1$, $C_1$.  In the code below, this state will be represented as a dictionary\n",
    "with the following keys: 'L' for the predicted labels, 'theta' for the topics, 'cnts' for word counts and 'C' \n",
    "for document counts.\n",
    "\n",
    "How to initialize our sampler is described in at the end of $\\S$2.3 of the paper:\n",
    "1. Pick a value $\\pi$ by sampling from the Beta($\\gamma_{\\pi1}$, $\\gamma_{\\pi0}$) distribution. \n",
    "2. Then, for each $j$, flip a coin with success probability $\\pi$, and assign the label $L_j$ of document \n",
    "   $j$ based on the outcome of the coin flip.\n",
    "3. Pick values for $\\theta_0$ and $\\theta_1$ by sampling from Dirichlet($\\gamma_{\\theta}$)."
   ]
  },
  {
   "cell_type": "code",
   "execution_count": 1,
   "metadata": {
    "collapsed": false
   },
   "outputs": [],
   "source": [
    "import numpy as np\n",
    "from numpy.random import beta, binomial, dirichlet\n",
    "\n",
    "def sample_labels(J, gamma_pi):\n",
    "    pi = beta(gamma_pi[0], gamma_pi[1])\n",
    "    return binomial(1, pi, J)\n",
    "\n",
    "def initialize(W, labels, gamma_pi, gamma_theta):\n",
    "    N = len(W)\n",
    "    M = len(labels)\n",
    "    V = len(gamma_theta)\n",
    "\n",
    "    L = sample_labels(N - M, gamma_pi)\n",
    "    theta = dirichlet(gamma_theta, 2)\n",
    "\n",
    "    C = np.zeros((2,))\n",
    "    C += gamma_pi\n",
    "    cnts = np.zeros((2, V))\n",
    "    cnts += gamma_theta\n",
    "    \n",
    "    for d, l in zip(W, labels.tolist() + L.tolist()):\n",
    "        for i, c in d: cnts[l][i] += c\n",
    "        C[l] += 1\n",
    "\n",
    "    return {'C':C, 'N':cnts, 'L':L, 'theta':theta}"
   ]
  },
  {
   "cell_type": "markdown",
   "metadata": {},
   "source": [
    "## The update step"
   ]
  },
  {
   "cell_type": "code",
   "execution_count": 8,
   "metadata": {
    "collapsed": false
   },
   "outputs": [],
   "source": [
    "def update(state, X):\n",
    "    C = state['C']\n",
    "    N = state['N']\n",
    "    L = state['L']\n",
    "    theta = state['theta']\n",
    "    # Update the labels for all documents:\n",
    "    for j, l in enumerate(L):\n",
    "        # Drop document j from the corpus:\n",
    "        for i, c in X[j]: N[l][i] -= c\n",
    "        C[l] -= 1  \n",
    "        # Compute the conditional probability that L[j] = 1:  \n",
    "        if C[0] == 1: pi = 1.0\n",
    "        elif C[1] == 1 <= 0: pi = 0.0 \n",
    "        else:\n",
    "            # compute the product of probabilities (sum of logs)\n",
    "            d = np.sum(C) - 1\n",
    "            v0 = np.log((C[0] - 1.0) / d)\n",
    "            v1 = np.log((C[1] - 1.0) / d)\n",
    "            for i, c in X[j]:\n",
    "                v0 += c * np.log(theta[0,i])\n",
    "                v1 += c * np.log(theta[1,i])\n",
    "            m = max(v0, v1)\n",
    "            v0 = np.exp(v0 - m)\n",
    "            v1 = np.exp(v1 - m)\n",
    "            pi = v1 / (v0 + v1)\n",
    "        # Sample the new label from the conditional probability:\n",
    "        l = binomial(1, pi)\n",
    "        L[j] = l\n",
    "        # Add document j back into the corpus:\n",
    "        C[l] += 1\n",
    "        for i, c in X[j]: N[l][i] += c\n",
    "    #print('--->>>', np.min(cnts[0]), np.min(cnts[1]))\n",
    "    # Update the topics:\n",
    "    theta[0] = dirichlet(N[0])\n",
    "    theta[1] = dirichlet(N[1])"
   ]
  },
  {
   "cell_type": "markdown",
   "metadata": {},
   "source": [
    "## Running the Sampler"
   ]
  },
  {
   "cell_type": "code",
   "execution_count": 9,
   "metadata": {
    "collapsed": true
   },
   "outputs": [],
   "source": [
    "def run_sampler(W, labels, iterations, gamma_pi, gamma_theta):\n",
    "    state = initialize(W, labels, gamma_pi, gamma_theta)\n",
    "    X = W[len(labels):]\n",
    "    for t in range(iterations): update(state, X)\n",
    "    return state['L']"
   ]
  },
  {
   "cell_type": "markdown",
   "metadata": {},
   "source": [
    "## Testing the Sampler"
   ]
  },
  {
   "cell_type": "code",
   "execution_count": 10,
   "metadata": {
    "collapsed": true
   },
   "outputs": [],
   "source": [
    "from numpy.random import multinomial, poisson\n",
    "\n",
    "def generate_data(N, gamma_pi, gamma_theta, lmbda):\n",
    "    labels = sample_labels(N, gamma_pi)\n",
    "    theta = dirichlet(gamma_theta, 2)\n",
    "    W = []\n",
    "    for l in labels:\n",
    "        R = poisson(lmbda)\n",
    "        doc = multinomial(R, theta[l])\n",
    "        W.append({(i, c) for i,c in enumerate(doc) if c > 0})\n",
    "    return W, labels"
   ]
  },
  {
   "cell_type": "code",
   "execution_count": 11,
   "metadata": {
    "collapsed": true
   },
   "outputs": [],
   "source": [
    "def compute_accuracy(L_true, L_predicted):\n",
    "    correct = 0\n",
    "    for i, l in enumerate(L_predicted):\n",
    "        if L_true[i] == l: correct += 1\n",
    "    accuracy = float(correct)/len(L_predicted)\n",
    "    return accuracy"
   ]
  },
  {
   "cell_type": "code",
   "execution_count": 12,
   "metadata": {
    "collapsed": true
   },
   "outputs": [],
   "source": [
    "def run_simulation(V, N, gamma_pi, gamma_theta, lmbda):\n",
    "    W, labels = generate_data(N, gamma_pi, gamma_theta, lmbda)\n",
    "    iterations = 100\n",
    "    n = int(N * 0.8)\n",
    "    labels_observed = labels[:n]\n",
    "    labels_unobserved = labels[n:]\n",
    "    \n",
    "    L = run_sampler(W, labels_observed, iterations, gamma_pi, gamma_theta)\n",
    "    return compute_accuracy(labels_unobserved, L)"
   ]
  },
  {
   "cell_type": "code",
   "execution_count": 13,
   "metadata": {
    "collapsed": false
   },
   "outputs": [
    {
     "name": "stdout",
     "output_type": "stream",
     "text": [
      "Accuracy results: 0.850, 0.900, 0.800, 0.938, 0.950, 0.963, 0.938, 0.863, 0.738, 0.912\n",
      "Average accuracy = 0.885\n"
     ]
    },
    {
     "data": {
      "image/png": "[encoded data removed]",
      "text/plain": [
       "<matplotlib.figure.Figure at 0x7f585c46db70>"
      ]
     },
     "metadata": {},
     "output_type": "display_data"
    }
   ],
   "source": [
    "import matplotlib\n",
    "import matplotlib.pyplot as plt\n",
    "%matplotlib inline  \n",
    "\n",
    "V = 10000\n",
    "N = 400\n",
    "gamma_pi = (1, 1)\n",
    "gamma_theta = [1] * V\n",
    "lmbda = 25\n",
    "\n",
    "results = []\n",
    "cnt = 0\n",
    "while cnt < 10:\n",
    "    accuracy = run_simulation(V, N, gamma_pi, gamma_theta, lmbda)\n",
    "    results.append(accuracy)\n",
    "    cnt += 1\n",
    "    \n",
    "print(\"Accuracy results: %s\" % \", \".join(\"%0.3f\" % x for x in results))\n",
    "print(\"Average accuracy = %0.3f\" % np.average(results))\n",
    "\n",
    "fig = plt.figure()\n",
    "ax = fig.add_subplot(111)\n",
    "ax.set_ylim([0,1])\n",
    "plt.boxplot(results);"
   ]
  },
  {
   "cell_type": "code",
   "execution_count": null,
   "metadata": {
    "collapsed": true
   },
   "outputs": [],
   "source": []
  }
 ],
 "metadata": {
  "kernelspec": {
   "display_name": "Python 3",
   "language": "python",
   "name": "python3"
  },
  "language_info": {
   "codemirror_mode": {
    "name": "ipython",
    "version": 3
   },
   "file_extension": ".py",
   "mimetype": "text/x-python",
   "name": "python",
   "nbconvert_exporter": "python",
   "pygments_lexer": "ipython3",
   "version": "3.5.2"
  }
 },
 "nbformat": 4,
 "nbformat_minor": 0
}
