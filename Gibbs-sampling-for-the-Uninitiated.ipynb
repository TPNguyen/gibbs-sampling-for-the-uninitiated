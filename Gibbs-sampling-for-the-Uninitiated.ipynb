{
 "cells": [
  {
   "cell_type": "code",
   "execution_count": 1,
   "metadata": {
    "collapsed": true
   },
   "outputs": [],
   "source": [
    "import matplotlib\n",
    "import matplotlib.pyplot as plt\n",
    "import numpy as np\n",
    "from numpy.random import beta, binomial, dirichlet, multinomial\n",
    "\n",
    "%matplotlib inline  "
   ]
  },
  {
   "cell_type": "code",
   "execution_count": 2,
   "metadata": {
    "collapsed": true
   },
   "outputs": [],
   "source": [
    "def initialize(V, N, labels, a=1.0, b=1.0, eta=1.0):\n",
    "    pi = beta(a, b)\n",
    "    L = binomial(1, pi, N)\n",
    "    for n in range(N):\n",
    "        if labels[n] == -1: continue\n",
    "        L[n] = labels[n]\n",
    "    theta_0, theta_1 = dirichlet([eta] * V, 2)\n",
    "    return theta_0, theta_1, L"
   ]
  },
  {
   "cell_type": "code",
   "execution_count": 3,
   "metadata": {
    "collapsed": true
   },
   "outputs": [],
   "source": [
    "def generate_data(V, N, M=100, a=1.0, b=1.0, eta=1.0):\n",
    "  theta_0, theta_1, labels = initialize(V, N, [-1] * N, a=a, b=b, eta=eta)\n",
    "  corpus = []\n",
    "  for n in range(N):\n",
    "    theta = theta_0 if labels[n] == 0 else theta_1\n",
    "    corpus.append(multinomial(M, theta))\n",
    "  return corpus, labels    "
   ]
  },
  {
   "cell_type": "code",
   "execution_count": 4,
   "metadata": {
    "collapsed": false
   },
   "outputs": [],
   "source": [
    "def update(theta_0, theta_1, L, corpus, labels, a=1.0, b=1.0, eta=1.0):\n",
    "\n",
    "    N = len(corpus)\n",
    "    V = len(corpus[0])\n",
    "    \n",
    "    C = [len([l for l in L if l == 0]), len([l for l in L if l == 1])]\n",
    "    \n",
    "    # compute current words counts:\n",
    "    cnts = []\n",
    "    for v in range(V):\n",
    "        word_cnts = [a, b]\n",
    "        for n in range(N):\n",
    "            word_cnts[L[n]] += corpus[n][v]\n",
    "        cnts.append(word_cnts)\n",
    "    \n",
    "    # update document labels\n",
    "    for n in range(N):\n",
    "        l = L[n]\n",
    "        if labels[n] == -1:\n",
    "            # subtract document's word counts from the corresponding class counts:\n",
    "            for v in range(V):\n",
    "                cnts[v][l] -= corpus[n][v]\n",
    "            # subtract 1 from class counts for the corresponding label:\n",
    "            C[l] -= 1\n",
    "            # compute document label probabilities\n",
    "            if C[0] == 0: p = 1.0\n",
    "            elif C[1] == 0: p = 0.0\n",
    "            else:\n",
    "              # compute the product of probabilities (sum of logs)\n",
    "              value0 = np.log(float(C[0])/(N+a+b-1))\n",
    "              value1 = np.log(float(C[1])/(N+a+b-1))\n",
    "              for v in range(V):\n",
    "                  value0 += np.log(theta_0[v])*corpus[n][v]\n",
    "                  value1 += np.log(theta_1[v])*corpus[n][v]\n",
    "              # Divide by a common number to avoid problems of small numbers.\n",
    "              divisor = (value0+value1)/2\n",
    "              value0 = np.exp(value0-divisor)\n",
    "              value1 = np.exp(value1-divisor)\n",
    "              p = value1 / (value0 + value1)\n",
    "            # sample the new label:\n",
    "            L[n] = binomial(1, p)\n",
    "            # update document count for this label\n",
    "            C[L[n]] += 1\n",
    "            # add document's word counts from the corresponding class counts:\n",
    "            for v in range(V): cnts[v][L[n]] += corpus[n][v]\n",
    "      \n",
    "    # sample new theta\n",
    "    t0 = []\n",
    "    t1 = []\n",
    "    for v in range(V):\n",
    "        t0.append(cnts[v][0])\n",
    "        t1.append(cnts[v][1])\n",
    "    theta_0 = dirichlet(t0)\n",
    "    theta_1 = dirichlet(t1)\n",
    "  \n",
    "    return theta_0, theta_1, L"
   ]
  },
  {
   "cell_type": "code",
   "execution_count": 5,
   "metadata": {
    "collapsed": true
   },
   "outputs": [],
   "source": [
    "def sample(corpus, labels, iterations=100, a=1.0, b=1.0, eta=1.0):\n",
    "    N = len(corpus)\n",
    "    V = len(corpus[0])\n",
    "    theta_0, theta_1, L = initialize(V, N, labels, a=a, b=b, eta=eta)\n",
    "    trace = [L]\n",
    "    \n",
    "    for t in range(iterations):\n",
    "        theta_0, theta_1, L = update(theta_0, theta_1, L, corpus, labels, a=a, b=b, eta=eta)\n",
    "        trace.append(L)\n",
    "    \n",
    "    return trace"
   ]
  },
  {
   "cell_type": "code",
   "execution_count": 6,
   "metadata": {
    "collapsed": true
   },
   "outputs": [],
   "source": [
    "def compute_accuracy(N, p, L, true_labels):\n",
    "    predicted_labels = [L[i] for i in range(int(N * p), N)] \n",
    "    correct = 0\n",
    "    for i in range(0,len(predicted_labels)):\n",
    "        if predicted_labels[i] == true_labels[i]: correct += 1\n",
    "    accuracy = float(correct)/len(predicted_labels)\n",
    "    return accuracy"
   ]
  },
  {
   "cell_type": "code",
   "execution_count": 7,
   "metadata": {
    "collapsed": false
   },
   "outputs": [],
   "source": [
    "def run_simulation(N=50, V=5, M=100, iterations=100, p=0.7, a=2, b=2, eta=1.0):\n",
    "    corpus, labels = generate_data(V, N, M, a=a, b=b, eta=eta)\n",
    "    # Partition the data into training and test sets:\n",
    "    true_labels = []\n",
    "    for i in range(int(N * p), N):\n",
    "        true_labels.append(labels[i])\n",
    "        labels[i] = -1\n",
    "    trace = sample(corpus, labels, iterations=iterations, a=a, b=b, eta=eta)\n",
    "    return compute_accuracy(N, p, trace[-1], true_labels)"
   ]
  },
  {
   "cell_type": "code",
   "execution_count": 8,
   "metadata": {
    "collapsed": false
   },
   "outputs": [
    {
     "name": "stdout",
     "output_type": "stream",
     "text": [
      "Results: 1.000, 1.000, 1.000, 1.000, 1.000, 1.000, 1.000, 1.000, 1.000, 1.000\n",
      "Average accuracy = 1.000\n"
     ]
    },
    {
     "data": {
      "image/png": "[encoded data removed]",
      "text/plain": [
       "<matplotlib.figure.Figure at 0x7fc70c94c4a8>"
      ]
     },
     "metadata": {},
     "output_type": "display_data"
    }
   ],
   "source": [
    "results = []\n",
    "cnt = 0\n",
    "while cnt < 10:\n",
    "    accuracy = run_simulation(N=50, V=10, M=100, iterations=100, p=0.75, a=2, b=2, eta=1.0)\n",
    "    results.append(accuracy)\n",
    "    cnt += 1\n",
    "print(\"Results: %s\" % \", \".join(\"%0.3f\" % x for x in results))\n",
    "print(\"Average accuracy = %0.3f\" % np.average(results))\n",
    "plt.boxplot(results);"
   ]
  },
  {
   "cell_type": "code",
   "execution_count": null,
   "metadata": {
    "collapsed": false
   },
   "outputs": [],
   "source": [
    "%time accuracy = run_simulation(N=500, V=1000, M=100, iterations=100, p=0.75, a=2, b=2, eta=1.0)"
   ]
  }
 ],
 "metadata": {
  "kernelspec": {
   "display_name": "Python 3",
   "language": "python",
   "name": "python3"
  },
  "language_info": {
   "codemirror_mode": {
    "name": "ipython",
    "version": 3
   },
   "file_extension": ".py",
   "mimetype": "text/x-python",
   "name": "python",
   "nbconvert_exporter": "python",
   "pygments_lexer": "ipython3",
   "version": "3.5.2"
  }
 },
 "nbformat": 4,
 "nbformat_minor": 0
}
